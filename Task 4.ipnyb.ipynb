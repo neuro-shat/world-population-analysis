{
 "cells": [
  {
   "cell_type": "code",
   "execution_count": 1,
   "metadata": {},
   "outputs": [
    {
     "data": {
      "text/plain": [
       "<Figure size 1000x600 with 1 Axes>"
      ]
     },
     "metadata": {},
     "output_type": "display_data"
    },
    {
     "data": {
      "text/plain": [
       "<Figure size 1000x600 with 1 Axes>"
      ]
     },
     "metadata": {},
     "output_type": "display_data"
    },
    {
     "data": {
      "text/plain": [
       "<Figure size 800x600 with 1 Axes>"
      ]
     },
     "metadata": {},
     "output_type": "display_data"
    }
   ],
   "source": [
    "import pandas as pd\n",
    "import matplotlib.pyplot as plt\n",
    "import seaborn as sns\n",
    "\n",
    "# Load the dataset with correct encoding\n",
    "df = pd.read_csv(r\"C:\\Users\\aksha\\OneDrive\\Desktop\\US_Accidents_March23.csv\\US_Accidents_March23.csv\", nrows=100000, encoding='ISO-8859-1')\n",
    "\n",
    "# Convert Start_Time column to datetime\n",
    "df['Start_Time'] = pd.to_datetime(df['Start_Time'], errors='coerce')\n",
    "\n",
    "# Extract useful features\n",
    "df['Hour'] = df['Start_Time'].dt.hour\n",
    "df['Weekday'] = df['Start_Time'].dt.day_name()\n",
    "\n",
    "# PLOT 1: Accidents by Hour of the Day\n",
    "plt.figure(figsize=(10,6))\n",
    "sns.countplot(x='Hour', data=df, palette='mako')\n",
    "plt.title(\"Accidents by Hour of the Day\")\n",
    "plt.xlabel(\"Hour\")\n",
    "plt.ylabel(\"Number of Accidents\")\n",
    "plt.grid(True)\n",
    "plt.tight_layout()\n",
    "plt.show()\n",
    "\n",
    "# PLOT 2: Top 10 Weather Conditions with Most Accidents\n",
    "plt.figure(figsize=(10,6))\n",
    "top_weather = df['Weather_Condition'].value_counts().nlargest(10).index\n",
    "sns.countplot(y='Weather_Condition', data=df[df['Weather_Condition'].isin(top_weather)],\n",
    "              order=top_weather, palette='rocket')\n",
    "plt.title(\"Top 10 Weather Conditions with Most Accidents\")\n",
    "plt.xlabel(\"Number of Accidents\")\n",
    "plt.ylabel(\"Weather Condition\")\n",
    "plt.tight_layout()\n",
    "plt.show()\n",
    "\n",
    "# PLOT 3: Severity Count (as proxy for road conditions)\n",
    "plt.figure(figsize=(8,6))\n",
    "sns.countplot(x='Severity', data=df, palette='coolwarm')\n",
    "plt.title(\"Accident Severity Distribution\")\n",
    "plt.xlabel(\"Severity (1=Low, 4=High)\")\n",
    "plt.ylabel(\"Accident Count\")\n",
    "plt.tight_layout()\n",
    "plt.show()"
   ]
  },
  {
   "cell_type": "code",
   "execution_count": null,
   "metadata": {},
   "outputs": [],
   "source": []
  },
  {
   "cell_type": "code",
   "execution_count": null,
   "metadata": {},
   "outputs": [],
   "source": []
  },
  {
   "cell_type": "code",
   "execution_count": null,
   "metadata": {},
   "outputs": [],
   "source": []
  },
  {
   "cell_type": "code",
   "execution_count": null,
   "metadata": {},
   "outputs": [],
   "source": []
  }
 ],
 "metadata": {
  "kernelspec": {
   "display_name": "Python 3",
   "language": "python",
   "name": "python3"
  },
  "language_info": {
   "codemirror_mode": {
    "name": "ipython",
    "version": 3
   },
   "file_extension": ".py",
   "mimetype": "text/x-python",
   "name": "python",
   "nbconvert_exporter": "python",
   "pygments_lexer": "ipython3",
   "version": "3.6.5"
  }
 },
 "nbformat": 4,
 "nbformat_minor": 2
}
